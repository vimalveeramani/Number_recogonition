{
 "cells": [
  {
   "cell_type": "code",
   "execution_count": null,
   "metadata": {
    "colab": {},
    "colab_type": "code",
    "id": "tTIReA30MCey"
   },
   "outputs": [],
   "source": [
    "import numpy as np\n",
    "import torch\n",
    "import torchvision\n",
    "from torchvision.datasets import MNIST"
   ]
  },
  {
   "cell_type": "code",
   "execution_count": null,
   "metadata": {
    "colab": {
     "base_uri": "https://localhost:8080/",
     "height": 119
    },
    "colab_type": "code",
    "id": "E_E81fbPMkqS",
    "outputId": "716a11dd-e842-41c0-da4b-bffa74f44e46"
   },
   "outputs": [],
   "source": [
    "dataset = MNIST(root='data/', download=True)"
   ]
  },
  {
   "cell_type": "code",
   "execution_count": null,
   "metadata": {
    "colab": {
     "base_uri": "https://localhost:8080/",
     "height": 34
    },
    "colab_type": "code",
    "id": "SUkS8-yHMxdC",
    "outputId": "4b00f4b4-210d-4c94-9ccd-c08ce1d97459"
   },
   "outputs": [],
   "source": [
    "len(dataset)"
   ]
  },
  {
   "cell_type": "code",
   "execution_count": null,
   "metadata": {
    "colab": {
     "base_uri": "https://localhost:8080/",
     "height": 51
    },
    "colab_type": "code",
    "id": "ULyV4fKSM1xR",
    "outputId": "d854093a-d757-4a38-dd25-fffecfd68bfe"
   },
   "outputs": [],
   "source": [
    "test_dataset = MNIST(root='data/', train=False)\n",
    "print(len(test_dataset))\n",
    "\n",
    "dataset[0]"
   ]
  },
  {
   "cell_type": "code",
   "execution_count": null,
   "metadata": {
    "colab": {},
    "colab_type": "code",
    "id": "eUebjVwQN2ov"
   },
   "outputs": [],
   "source": [
    "import matplotlib.pyplot as plt\n",
    "%matplotlib inline"
   ]
  },
  {
   "cell_type": "code",
   "execution_count": null,
   "metadata": {
    "colab": {
     "base_uri": "https://localhost:8080/",
     "height": 282
    },
    "colab_type": "code",
    "id": "6RFXa4PROUv-",
    "outputId": "cd4544c5-0fa6-46ec-d319-f5471479327b"
   },
   "outputs": [],
   "source": [
    "image, label = dataset[0]\n",
    "plt.imshow(image)\n",
    "print('Label: ', label.item())"
   ]
  },
  {
   "cell_type": "code",
   "execution_count": null,
   "metadata": {
    "colab": {
     "base_uri": "https://localhost:8080/",
     "height": 282
    },
    "colab_type": "code",
    "id": "EeATAFLOOzcr",
    "outputId": "780865cf-d3a9-442a-bbc5-dc5277d60411"
   },
   "outputs": [],
   "source": [
    "image, label = dataset[10]\n",
    "plt.imshow(image)\n",
    "print('Label: ', label.item())"
   ]
  },
  {
   "cell_type": "code",
   "execution_count": null,
   "metadata": {
    "colab": {},
    "colab_type": "code",
    "id": "FPR23i3xO8nt"
   },
   "outputs": [],
   "source": [
    "import torchvision.transforms as transforms"
   ]
  },
  {
   "cell_type": "code",
   "execution_count": null,
   "metadata": {
    "colab": {},
    "colab_type": "code",
    "id": "NQWOP7fRPDKy"
   },
   "outputs": [],
   "source": [
    "dataset = MNIST(root='data/', train=True, transform=transforms.ToTensor())"
   ]
  },
  {
   "cell_type": "code",
   "execution_count": null,
   "metadata": {
    "colab": {
     "base_uri": "https://localhost:8080/",
     "height": 51
    },
    "colab_type": "code",
    "id": "ydv2kLMRPOVX",
    "outputId": "e7c2abe7-74c8-4b6e-c417-4de5f00628c4"
   },
   "outputs": [],
   "source": [
    "img_tensor, label = dataset[0]\n",
    "print(img_tensor.shape)\n",
    "print(label)"
   ]
  },
  {
   "cell_type": "code",
   "execution_count": null,
   "metadata": {
    "colab": {
     "base_uri": "https://localhost:8080/",
     "height": 136
    },
    "colab_type": "code",
    "id": "wxBB755KPf5i",
    "outputId": "9e4f0377-130a-45cd-a6c3-df47b7c275ca"
   },
   "outputs": [],
   "source": [
    "print(img_tensor[:, 10:15, 10:15])\n",
    "print(torch.max(img_tensor))\n",
    "print(torch.min(img_tensor))"
   ]
  },
  {
   "cell_type": "code",
   "execution_count": null,
   "metadata": {
    "colab": {
     "base_uri": "https://localhost:8080/",
     "height": 282
    },
    "colab_type": "code",
    "id": "7uCmZXsgPxhq",
    "outputId": "e0352964-a43e-4a39-b7c5-71be2918be1c"
   },
   "outputs": [],
   "source": [
    "plt.imshow(img_tensor[0], cmap='gray')"
   ]
  },
  {
   "cell_type": "code",
   "execution_count": null,
   "metadata": {
    "colab": {},
    "colab_type": "code",
    "id": "04xyG6dNQEE3"
   },
   "outputs": [],
   "source": [
    "def split_indices(n, val_pct):\n",
    "  n_val = int(n * val_pct)\n",
    "  idxs = np.random.permutation(n)\n",
    "  return idxs[n_val:], idxs[:n_val]"
   ]
  },
  {
   "cell_type": "code",
   "execution_count": null,
   "metadata": {
    "colab": {},
    "colab_type": "code",
    "id": "LzM3fvYwQnsh"
   },
   "outputs": [],
   "source": [
    "train_indices, val_indices = split_indices(len(dataset), val_pct=0.2)"
   ]
  },
  {
   "cell_type": "code",
   "execution_count": null,
   "metadata": {
    "colab": {
     "base_uri": "https://localhost:8080/",
     "height": 68
    },
    "colab_type": "code",
    "id": "giJN6fwhTj7b",
    "outputId": "05dcf4ee-8df1-4937-c63a-04de9f669a47"
   },
   "outputs": [],
   "source": [
    "print(len(train_indices), len(val_indices))\n",
    "print('sample val indices: ', val_indices[:20])"
   ]
  },
  {
   "cell_type": "code",
   "execution_count": null,
   "metadata": {
    "colab": {},
    "colab_type": "code",
    "id": "TEYZOH-FaYdi"
   },
   "outputs": [],
   "source": [
    "from torch.utils.data.sampler import SubsetRandomSampler\n",
    "from torch.utils.data.dataloader import DataLoader"
   ]
  },
  {
   "cell_type": "code",
   "execution_count": null,
   "metadata": {
    "colab": {},
    "colab_type": "code",
    "id": "76pqz4evamyV"
   },
   "outputs": [],
   "source": [
    "batch_size=100\n",
    "\n",
    "train_sampler = SubsetRandomSampler(train_indices)\n",
    "train_loader = DataLoader(dataset, batch_size, sampler=train_sampler)\n",
    "\n",
    "val_sampler = SubsetRandomSampler(val_indices)\n",
    "val_loader = DataLoader(dataset, batch_size, sampler=val_sampler)"
   ]
  },
  {
   "cell_type": "code",
   "execution_count": null,
   "metadata": {
    "colab": {},
    "colab_type": "code",
    "id": "KHVAKdCtbHix"
   },
   "outputs": [],
   "source": [
    "import torch.nn as nn\n",
    "\n",
    "input_size = 28*28\n",
    "num_classes = 10\n",
    "\n",
    "model = nn.Linear(input_size, num_classes)"
   ]
  },
  {
   "cell_type": "code",
   "execution_count": null,
   "metadata": {
    "colab": {
     "base_uri": "https://localhost:8080/",
     "height": 187
    },
    "colab_type": "code",
    "id": "50uv6eFpbWCo",
    "outputId": "4dce3123-d7b0-4250-9c14-c5fc604773be"
   },
   "outputs": [],
   "source": [
    "print(model.weight.shape)\n",
    "model.weight"
   ]
  },
  {
   "cell_type": "code",
   "execution_count": null,
   "metadata": {
    "colab": {
     "base_uri": "https://localhost:8080/",
     "height": 85
    },
    "colab_type": "code",
    "id": "lkfkMndUbdCW",
    "outputId": "e606fe28-ad5f-49c0-88a9-127d3d22b620"
   },
   "outputs": [],
   "source": [
    "print(model.bias.shape)\n",
    "model.bias"
   ]
  },
  {
   "cell_type": "code",
   "execution_count": null,
   "metadata": {
    "colab": {
     "base_uri": "https://localhost:8080/",
     "height": 34
    },
    "colab_type": "code",
    "id": "w3Pg0HGubjlG",
    "outputId": "7de25b49-055c-4e4d-954d-4de647d91d89"
   },
   "outputs": [],
   "source": [
    "for images, labels in train_loader:\n",
    "  print(images.shape)\n",
    "  outputs = model(images)\n",
    "  break"
   ]
  },
  {
   "cell_type": "code",
   "execution_count": null,
   "metadata": {
    "colab": {},
    "colab_type": "code",
    "id": "wm-jXsmub1b3"
   },
   "outputs": [],
   "source": [
    "class MnistModel(nn.Module):\n",
    "  def __init__(self):\n",
    "    super().__init__()\n",
    "    self.linear = nn.Linear(input_size, num_classes)\n",
    "    \n",
    "  def forward(self, xb):\n",
    "    xb = xb.reshape(-1, 28*28)\n",
    "    out = self.linear(xb)\n",
    "    return out\n",
    "  \n",
    "model = MnistModel()"
   ]
  },
  {
   "cell_type": "code",
   "execution_count": null,
   "metadata": {
    "colab": {
     "base_uri": "https://localhost:8080/",
     "height": 323
    },
    "colab_type": "code",
    "id": "ugGvETnCcbw-",
    "outputId": "a15b057e-94fd-4849-f9a7-986f6b8606af"
   },
   "outputs": [],
   "source": [
    "print(model.linear.weight.shape, model.linear.bias.shape)\n",
    "list(model.parameters())"
   ]
  },
  {
   "cell_type": "code",
   "execution_count": null,
   "metadata": {
    "colab": {
     "base_uri": "https://localhost:8080/",
     "height": 119
    },
    "colab_type": "code",
    "id": "vPTUjToWcmoX",
    "outputId": "90a2c440-3f7f-4fda-f51d-cdf4b9fe4a6f"
   },
   "outputs": [],
   "source": [
    "for images, labels in train_loader:\n",
    "  outputs = model(images)\n",
    "  break\n",
    "  \n",
    "print('outputs.shape: ', outputs.shape)\n",
    "print('Sample outputs: \\n', outputs[:2].data)"
   ]
  },
  {
   "cell_type": "code",
   "execution_count": null,
   "metadata": {
    "colab": {},
    "colab_type": "code",
    "id": "memyu_0RdN3-"
   },
   "outputs": [],
   "source": [
    "import torch.nn.functional as F"
   ]
  },
  {
   "cell_type": "code",
   "execution_count": null,
   "metadata": {
    "colab": {
     "base_uri": "https://localhost:8080/",
     "height": 119
    },
    "colab_type": "code",
    "id": "A3Cl2UxqddHJ",
    "outputId": "750075bc-3395-490b-87c8-c7681459c534"
   },
   "outputs": [],
   "source": [
    "probs = F.softmax(outputs, dim=1)\n",
    "\n",
    "print(\"Sample probabilities: \\n\", probs[:2].data)\n",
    "print(\"Sum: \", torch.sum(probs[0]).item())"
   ]
  },
  {
   "cell_type": "code",
   "execution_count": null,
   "metadata": {
    "colab": {
     "base_uri": "https://localhost:8080/",
     "height": 102
    },
    "colab_type": "code",
    "id": "sd5KcvvZd_2V",
    "outputId": "62e3b860-8edd-451b-ad10-cde9fe1a1179"
   },
   "outputs": [],
   "source": [
    "max_probs, preds = torch.max(probs, dim=1)\n",
    "print(preds)"
   ]
  },
  {
   "cell_type": "code",
   "execution_count": null,
   "metadata": {
    "colab": {
     "base_uri": "https://localhost:8080/",
     "height": 102
    },
    "colab_type": "code",
    "id": "ocd9gYQheSB8",
    "outputId": "1a9d8582-85d0-4b1a-d910-9783443451b7"
   },
   "outputs": [],
   "source": [
    "labels"
   ]
  },
  {
   "cell_type": "code",
   "execution_count": null,
   "metadata": {
    "colab": {},
    "colab_type": "code",
    "id": "IQW7YhvaeafL"
   },
   "outputs": [],
   "source": [
    "def accuracy(l1, l2):\n",
    "  return torch.sum(l1 == l2).item()/len(l1)"
   ]
  },
  {
   "cell_type": "code",
   "execution_count": null,
   "metadata": {
    "colab": {
     "base_uri": "https://localhost:8080/",
     "height": 34
    },
    "colab_type": "code",
    "id": "TXReRED2eocy",
    "outputId": "238f3b16-6547-4f76-9dcc-632a329a69ed"
   },
   "outputs": [],
   "source": [
    "accuracy(preds, labels)"
   ]
  },
  {
   "cell_type": "code",
   "execution_count": null,
   "metadata": {
    "colab": {},
    "colab_type": "code",
    "id": "FGa_wLQdeyqY"
   },
   "outputs": [],
   "source": [
    "loss_fn = F.cross_entropy"
   ]
  },
  {
   "cell_type": "code",
   "execution_count": null,
   "metadata": {
    "colab": {
     "base_uri": "https://localhost:8080/",
     "height": 34
    },
    "colab_type": "code",
    "id": "98kDqnMVfPqr",
    "outputId": "ef58dea7-1c17-4c74-afd8-36e489d03d77"
   },
   "outputs": [],
   "source": [
    "loss = loss_fn(outputs, labels)\n",
    "print(loss)"
   ]
  },
  {
   "cell_type": "code",
   "execution_count": null,
   "metadata": {
    "colab": {},
    "colab_type": "code",
    "id": "rSwCIXBjfZn3"
   },
   "outputs": [],
   "source": [
    "learning_rate = 0.001\n",
    "optimizer = torch.optim.SGD(model.parameters(), lr = learning_rate)"
   ]
  },
  {
   "cell_type": "code",
   "execution_count": null,
   "metadata": {
    "colab": {},
    "colab_type": "code",
    "id": "qv4pViAtfmOS"
   },
   "outputs": [],
   "source": [
    "def loss_batch(model, loss_func, xb, yb, opt = None, metric = None):\n",
    "  preds = model(xb)\n",
    "  loss = loss_func(preds, yb)\n",
    "  \n",
    "  if opt is not None:\n",
    "    loss.backward()\n",
    "    opt.step()\n",
    "    opt.zero_grad()\n",
    "    \n",
    "  metric_result = None\n",
    "  if metric is not None:\n",
    "    metric_result = metric(preds, yb)\n",
    "    \n",
    "  return loss.item(), len(xb), metric_result"
   ]
  },
  {
   "cell_type": "code",
   "execution_count": null,
   "metadata": {
    "colab": {},
    "colab_type": "code",
    "id": "18vAlJxkgYXE"
   },
   "outputs": [],
   "source": [
    "def evaluate(model, loss_fn, valid_dl, metric=None):\n",
    "  with torch.no_grad():\n",
    "    results = [loss_batch(model, loss_fn, xb, yb, metric = metric) for xb,yb in valid_dl]\n",
    "    \n",
    "  losses, nums, metrics = zip(*results)\n",
    "  total = np.sum(nums)\n",
    "  total_loss = np.sum(np.multiply(losses, nums))\n",
    "  avg_loss = total_loss / total\n",
    "  avg_metric = None\n",
    "  if metric is not None:\n",
    "    tot_metric = np.sum(np.multiply(metrics, nums))\n",
    "    avg_metric = tot_metric / total\n",
    "  return avg_loss, total, avg_metric"
   ]
  },
  {
   "cell_type": "code",
   "execution_count": null,
   "metadata": {
    "colab": {},
    "colab_type": "code",
    "id": "mBSbT_CShX9t"
   },
   "outputs": [],
   "source": [
    "def accuracy(outputs, labels):\n",
    "  _, preds = torch.max(outputs, dim=1)\n",
    "  return torch.sum(preds == labels).item() / len(preds)"
   ]
  },
  {
   "cell_type": "code",
   "execution_count": null,
   "metadata": {
    "colab": {
     "base_uri": "https://localhost:8080/",
     "height": 34
    },
    "colab_type": "code",
    "id": "X8PH2ZzShqYy",
    "outputId": "e348788a-4220-46c6-c344-079b5a12d06f"
   },
   "outputs": [],
   "source": [
    "val_loss, total, val_acc = evaluate(model, loss_fn, val_loader, metric = accuracy)\n",
    "print('Loss: {:.4f}, Accuracy: {:.4f}'.format(val_loss, val_acc))"
   ]
  },
  {
   "cell_type": "code",
   "execution_count": null,
   "metadata": {
    "colab": {},
    "colab_type": "code",
    "id": "cg7DefeYiiuW"
   },
   "outputs": [],
   "source": [
    "def fit(epochs, model, loss_fn, opt, train_dl, valid_dl, metric=None):\n",
    "  for epoch in range(epochs):\n",
    "    for xb, yb in train_dl:\n",
    "      loss,_,_ = loss_batch(model, loss_fn, xb, yb, opt)\n",
    "      \n",
    "    result = evaluate(model, loss_fn, valid_dl, metric)\n",
    "    val_loss, total, val_metric = result\n",
    "    \n",
    "    if metric is None:\n",
    "      print('Epoch [{}/{}], Loss: {:.4f}'.format(epoch+1, epochs, val_loss, metric.__name__, val_metric))\n",
    "    else:\n",
    "      print('Epoch [{}/{}], Loss: {:.4f}, {}: {:.4f}'.format(epoch+1, epochs, val_loss, metric.__name__, val_metric))"
   ]
  },
  {
   "cell_type": "code",
   "execution_count": null,
   "metadata": {
    "colab": {},
    "colab_type": "code",
    "id": "YOnLasiMjsCM"
   },
   "outputs": [],
   "source": [
    "model = MnistModel()\n",
    "optimizer = torch.optim.SGD(model.parameters(), lr = learning_rate)"
   ]
  },
  {
   "cell_type": "code",
   "execution_count": null,
   "metadata": {
    "colab": {
     "base_uri": "https://localhost:8080/",
     "height": 102
    },
    "colab_type": "code",
    "id": "wXbFenZIj3Q7",
    "outputId": "325daf58-c2fa-4fd4-818d-32c65e4f4c84"
   },
   "outputs": [],
   "source": [
    "fit(5, model, F.cross_entropy, optimizer, train_loader, val_loader, accuracy)"
   ]
  },
  {
   "cell_type": "code",
   "execution_count": null,
   "metadata": {
    "colab": {
     "base_uri": "https://localhost:8080/",
     "height": 102
    },
    "colab_type": "code",
    "id": "ntMhSCTek3wO",
    "outputId": "7807235c-5d50-4cd6-d6e2-c0630915c232"
   },
   "outputs": [],
   "source": [
    "fit(5, model, F.cross_entropy, optimizer, train_loader, val_loader, accuracy)"
   ]
  },
  {
   "cell_type": "code",
   "execution_count": null,
   "metadata": {
    "colab": {
     "base_uri": "https://localhost:8080/",
     "height": 102
    },
    "colab_type": "code",
    "id": "kU90svH3lFCC",
    "outputId": "074a180f-3679-4b19-93e5-049013e87abc"
   },
   "outputs": [],
   "source": [
    "fit(5, model, F.cross_entropy, optimizer, train_loader, val_loader, accuracy)"
   ]
  },
  {
   "cell_type": "code",
   "execution_count": null,
   "metadata": {
    "colab": {
     "base_uri": "https://localhost:8080/",
     "height": 102
    },
    "colab_type": "code",
    "id": "cyvZ5wxOlVBj",
    "outputId": "2fae4a1f-7d92-46e5-ed20-61c603a8515e"
   },
   "outputs": [],
   "source": [
    "fit(5, model, F.cross_entropy, optimizer, train_loader, val_loader, accuracy)"
   ]
  },
  {
   "cell_type": "code",
   "execution_count": null,
   "metadata": {
    "colab": {
     "base_uri": "https://localhost:8080/",
     "height": 102
    },
    "colab_type": "code",
    "id": "2t34s8lVmBVT",
    "outputId": "cb735625-21b8-4b5a-b226-d54271e49fa8"
   },
   "outputs": [],
   "source": [
    "fit(5, model, F.cross_entropy, optimizer, train_loader, val_loader, accuracy)"
   ]
  },
  {
   "cell_type": "code",
   "execution_count": null,
   "metadata": {
    "colab": {
     "base_uri": "https://localhost:8080/",
     "height": 102
    },
    "colab_type": "code",
    "id": "kRjth7LkmKO5",
    "outputId": "4f01d86e-769c-47b9-ff81-3cdcf60325fb"
   },
   "outputs": [],
   "source": [
    "fit(5, model, F.cross_entropy, optimizer, train_loader, val_loader, accuracy)"
   ]
  },
  {
   "cell_type": "code",
   "execution_count": null,
   "metadata": {
    "colab": {
     "base_uri": "https://localhost:8080/",
     "height": 187
    },
    "colab_type": "code",
    "id": "qPTiCuO2mT1g",
    "outputId": "e237b958-ec7e-42de-f591-1632f0f27b24"
   },
   "outputs": [],
   "source": [
    "fit(10, model, F.cross_entropy, optimizer, train_loader, val_loader, accuracy)"
   ]
  },
  {
   "cell_type": "code",
   "execution_count": null,
   "metadata": {
    "colab": {
     "base_uri": "https://localhost:8080/",
     "height": 294
    },
    "colab_type": "code",
    "id": "BaLfIfMmmwsK",
    "outputId": "57ed91e5-2889-41ff-a718-009d75df57bf"
   },
   "outputs": [],
   "source": [
    "accuracies = [0.0790, 0.5989, 0.7224, 0.7653, 0.7851, 0.7994, 0.8093, 0.8162, 0.8225, 0.8266,\n",
    "              0.8298, 0.8327, 0.8352, 0.8393, 0.8413, 0.8428, 0.8463, 0.8482, 0.8499, 0.8517,\n",
    "              0.8532, 0.8546, 0.8560, 0.8573, 0.8582, 0.8592, 0.8598, 0.8608, 0.8619, 0.8628,\n",
    "              0.8628, 0.8634, 0.8636, 0.8636, 0.8642, 0.8653, 0.8662, 0.8666, 0.8672, 0.8682, 0.8689]\n",
    "\n",
    "plt.plot(accuracies, '-x')\n",
    "plt.xlabel('epoch')\n",
    "plt.ylabel('accuracy')\n",
    "plt.title('Accuracy vs. No. of eo=pochs')\n",
    "plt.show()"
   ]
  },
  {
   "cell_type": "code",
   "execution_count": null,
   "metadata": {
    "colab": {},
    "colab_type": "code",
    "id": "f5sNVOvdpTC_"
   },
   "outputs": [],
   "source": [
    "test_dataset = MNIST(root = 'data/', train = False, transform = transforms.ToTensor())"
   ]
  },
  {
   "cell_type": "code",
   "execution_count": null,
   "metadata": {
    "colab": {
     "base_uri": "https://localhost:8080/",
     "height": 299
    },
    "colab_type": "code",
    "id": "Uo2abRryperC",
    "outputId": "281410e9-bf61-4310-bdc1-976386f58b91"
   },
   "outputs": [],
   "source": [
    "img, label = test_dataset[0]\n",
    "plt.imshow(img[0], cmap='gray')\n",
    "print('Shape: ', img.shape)\n",
    "print('Label: ', label.item())"
   ]
  },
  {
   "cell_type": "code",
   "execution_count": null,
   "metadata": {
    "colab": {},
    "colab_type": "code",
    "id": "7nXF6z59pwhf"
   },
   "outputs": [],
   "source": [
    "def predict_image(img, model):\n",
    "  xb = img.unsqueeze(0)\n",
    "  yb = model(xb)\n",
    "  _, preds = torch.max(yb, dim=1)\n",
    "  return preds[0].item()"
   ]
  },
  {
   "cell_type": "code",
   "execution_count": null,
   "metadata": {
    "colab": {
     "base_uri": "https://localhost:8080/",
     "height": 282
    },
    "colab_type": "code",
    "id": "FvEp_brkqBMl",
    "outputId": "05cf9651-6761-4d36-f702-06ab49027e2d"
   },
   "outputs": [],
   "source": [
    "img, label = test_dataset[0]\n",
    "plt.imshow(img[0], cmap = 'gray')\n",
    "print('Label: ', label.item(), ', Predicted: ', predict_image(img, model))"
   ]
  },
  {
   "cell_type": "code",
   "execution_count": null,
   "metadata": {
    "colab": {
     "base_uri": "https://localhost:8080/",
     "height": 282
    },
    "colab_type": "code",
    "id": "mcmsKXUlqdvv",
    "outputId": "a2980dc7-0907-447b-bc37-599cf82f52b6"
   },
   "outputs": [],
   "source": [
    "img, label = test_dataset[10]\n",
    "plt.imshow(img[0], cmap = 'gray')\n",
    "print('Label: ', label.item(), ', Predicted: ', predict_image(img, model))"
   ]
  },
  {
   "cell_type": "code",
   "execution_count": null,
   "metadata": {
    "colab": {
     "base_uri": "https://localhost:8080/",
     "height": 282
    },
    "colab_type": "code",
    "id": "rVAROQr-qn9f",
    "outputId": "0ef05c27-0731-450c-f825-b746b95ae416"
   },
   "outputs": [],
   "source": [
    "img, label = test_dataset[20]\n",
    "plt.imshow(img[0], cmap = 'gray')\n",
    "print('Label: ', label.item(), ', Predicted: ', predict_image(img, model))"
   ]
  },
  {
   "cell_type": "code",
   "execution_count": null,
   "metadata": {
    "colab": {
     "base_uri": "https://localhost:8080/",
     "height": 282
    },
    "colab_type": "code",
    "id": "ZFht0qUhqz6k",
    "outputId": "65b005c2-39d3-4bdc-f75c-137f01663456"
   },
   "outputs": [],
   "source": [
    "img, label = test_dataset[1889]\n",
    "plt.imshow(img[0], cmap = 'gray')\n",
    "print('Label: ', label.item(), ', Predicted: ', predict_image(img, model))"
   ]
  },
  {
   "cell_type": "code",
   "execution_count": null,
   "metadata": {
    "colab": {
     "base_uri": "https://localhost:8080/",
     "height": 34
    },
    "colab_type": "code",
    "id": "rlw1d7IXq5M-",
    "outputId": "74ee1457-39e0-4689-bcf1-ecbd45989229"
   },
   "outputs": [],
   "source": [
    "test_loader = DataLoader(test_dataset, batch_size = 200)\n",
    "\n",
    "test_loss, totla, test_acc = evaluate(model, loss_fn, test_loader, metric=accuracy)\n",
    "print('Loss: {:.4f}, Accuracy: {:.4f}'.format(test_loss, test_acc))"
   ]
  },
  {
   "cell_type": "code",
   "execution_count": null,
   "metadata": {
    "colab": {},
    "colab_type": "code",
    "id": "OUabPxy4rVva"
   },
   "outputs": [],
   "source": [
    "torch.save(model.state_dict(), 'mnist-logistic.pth')"
   ]
  },
  {
   "cell_type": "code",
   "execution_count": null,
   "metadata": {
    "colab": {
     "base_uri": "https://localhost:8080/",
     "height": 204
    },
    "colab_type": "code",
    "id": "WHHQ0Nj1rfPQ",
    "outputId": "365853ea-decf-4fe1-9f9c-1de1fc8fd8fa"
   },
   "outputs": [],
   "source": [
    "model.state_dict()"
   ]
  },
  {
   "cell_type": "code",
   "execution_count": null,
   "metadata": {
    "colab": {
     "base_uri": "https://localhost:8080/",
     "height": 204
    },
    "colab_type": "code",
    "id": "0mDYGTttri5j",
    "outputId": "9aea7288-76b3-40c6-8fe7-709ae9850aed"
   },
   "outputs": [],
   "source": [
    "model2 = MnistModel()\n",
    "model2.load_state_dict(torch.load('mnist-logistic.pth'))\n",
    "model2.state_dict()"
   ]
  },
  {
   "cell_type": "code",
   "execution_count": null,
   "metadata": {
    "colab": {
     "base_uri": "https://localhost:8080/",
     "height": 34
    },
    "colab_type": "code",
    "id": "xUrtIaDkrxtu",
    "outputId": "d70fc083-9e75-4bae-f88b-81076179ae67"
   },
   "outputs": [],
   "source": [
    "test_loss, total, test_acc = evaluate(model2, loss_fn, test_loader, metric = accuracy)\n",
    "print('Loss: {:.4f}, Accuracy: {:.4f}'.format(test_loss, test_acc))"
   ]
  }
 ],
 "metadata": {
  "colab": {
   "name": "MNIST (Pytorch).ipynb",
   "provenance": [],
   "version": "0.3.2"
  },
  "kernelspec": {
   "display_name": "Python 3",
   "name": "python3"
  }
 },
 "nbformat": 4,
 "nbformat_minor": 0
}
