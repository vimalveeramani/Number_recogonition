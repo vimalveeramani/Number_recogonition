{
 "cells": [
  {
   "cell_type": "code",
   "execution_count": null,
   "metadata": {
    "id": "tTIReA30MCey",
    "colab_type": "code",
    "colab": {}
   },
   "outputs": [],
   "source": [
    "import numpy as np\n",
    "import torch\n",
    "import torchvision\n",
    "from torchvision.datasets import MNIST"
   ]
  },
  {
   "cell_type": "code",
   "execution_count": 6,
   "metadata": {
    "id": "E_E81fbPMkqS",
    "colab_type": "code",
    "colab": {
     "base_uri": "https://localhost:8080/",
     "height": 119.0
    },
    "outputId": "716a11dd-e842-41c0-da4b-bffa74f44e46"
   },
   "outputs": [
    {
     "name": "stdout",
     "output_type": "stream",
     "text": [
      "Downloading http://yann.lecun.com/exdb/mnist/train-images-idx3-ubyte.gz\n",
      "Downloading http://yann.lecun.com/exdb/mnist/train-labels-idx1-ubyte.gz\n",
      "Downloading http://yann.lecun.com/exdb/mnist/t10k-images-idx3-ubyte.gz\n",
      "Downloading http://yann.lecun.com/exdb/mnist/t10k-labels-idx1-ubyte.gz\n",
      "Processing...\n",
      "Done!\n"
     ]
    }
   ],
   "source": [
    "dataset = MNIST(root='data/', download=True)"
   ]
  },
  {
   "cell_type": "code",
   "execution_count": 7,
   "metadata": {
    "id": "SUkS8-yHMxdC",
    "colab_type": "code",
    "colab": {
     "base_uri": "https://localhost:8080/",
     "height": 34.0
    },
    "outputId": "4b00f4b4-210d-4c94-9ccd-c08ce1d97459"
   },
   "outputs": [
    {
     "data": {
      "text/plain": [
       "60000"
      ]
     },
     "execution_count": 7,
     "metadata": {
      "tags": []
     },
     "output_type": "execute_result"
    }
   ],
   "source": [
    "len(dataset)"
   ]
  },
  {
   "cell_type": "code",
   "execution_count": 12,
   "metadata": {
    "id": "ULyV4fKSM1xR",
    "colab_type": "code",
    "colab": {
     "base_uri": "https://localhost:8080/",
     "height": 51.0
    },
    "outputId": "d854093a-d757-4a38-dd25-fffecfd68bfe"
   },
   "outputs": [
    {
     "name": "stdout",
     "output_type": "stream",
     "text": [
      "10000\n"
     ]
    },
    {
     "data": {
      "text/plain": [
       "(<PIL.Image.Image image mode=L size=28x28 at 0x7F2F4ACF1390>, tensor(5))"
      ]
     },
     "execution_count": 12,
     "metadata": {
      "tags": []
     },
     "output_type": "execute_result"
    }
   ],
   "source": [
    "test_dataset = MNIST(root='data/', train=False)\n",
    "print(len(test_dataset))\n",
    "\n",
    "dataset[0]"
   ]
  },
  {
   "cell_type": "code",
   "execution_count": 0,
   "metadata": {
    "id": "eUebjVwQN2ov",
    "colab_type": "code",
    "colab": {}
   },
   "outputs": [],
   "source": [
    "import matplotlib.pyplot as plt\n",
    "%matplotlib inline"
   ]
  },
  {
   "cell_type": "code",
   "execution_count": 19,
   "metadata": {
    "id": "6RFXa4PROUv-",
    "colab_type": "code",
    "colab": {
     "base_uri": "https://localhost:8080/",
     "height": 282.0
    },
    "outputId": "cd4544c5-0fa6-46ec-d319-f5471479327b"
   },
   "outputs": [
    {
     "name": "stdout",
     "output_type": "stream",
     "text": [
      "Label:  5\n"
     ]
    },
    {
     "data": {
      "image/png": "[encoded data removed]",
      "text/plain": [
       "<Figure size 432x288 with 1 Axes>"
      ]
     },
     "metadata": {
      "tags": []
     },
     "output_type": "display_data"
    }
   ],
   "source": [
    "image, label = dataset[0]\n",
    "plt.imshow(image)\n",
    "print('Label: ', label.item())"
   ]
  },
  {
   "cell_type": "code",
   "execution_count": 20,
   "metadata": {
    "id": "EeATAFLOOzcr",
    "colab_type": "code",
    "colab": {
     "base_uri": "https://localhost:8080/",
     "height": 282.0
    },
    "outputId": "780865cf-d3a9-442a-bbc5-dc5277d60411"
   },
   "outputs": [
    {
     "name": "stdout",
     "output_type": "stream",
     "text": [
      "Label:  3\n"
     ]
    },
    {
     "data": {
      "image/png": "[encoded data removed]",
      "text/plain": [
       "<Figure size 432x288 with 1 Axes>"
      ]
     },
     "metadata": {
      "tags": []
     },
     "output_type": "display_data"
    }
   ],
   "source": [
    "image, label = dataset[10]\n",
    "plt.imshow(image)\n",
    "print('Label: ', label.item())"
   ]
  },
  {
   "cell_type": "code",
   "execution_count": 0,
   "metadata": {
    "id": "FPR23i3xO8nt",
    "colab_type": "code",
    "colab": {}
   },
   "outputs": [],
   "source": [
    "import torchvision.transforms as transforms"
   ]
  },
  {
   "cell_type": "code",
   "execution_count": 0,
   "metadata": {
    "id": "NQWOP7fRPDKy",
    "colab_type": "code",
    "colab": {}
   },
   "outputs": [],
   "source": [
    "dataset = MNIST(root='data/', train=True, transform=transforms.ToTensor())"
   ]
  },
  {
   "cell_type": "code",
   "execution_count": 24,
   "metadata": {
    "id": "ydv2kLMRPOVX",
    "colab_type": "code",
    "colab": {
     "base_uri": "https://localhost:8080/",
     "height": 51.0
    },
    "outputId": "e7c2abe7-74c8-4b6e-c417-4de5f00628c4"
   },
   "outputs": [
    {
     "name": "stdout",
     "output_type": "stream",
     "text": [
      "torch.Size([1, 28, 28])\n",
      "tensor(5)\n"
     ]
    }
   ],
   "source": [
    "img_tensor, label = dataset[0]\n",
    "print(img_tensor.shape)\n",
    "print(label)"
   ]
  },
  {
   "cell_type": "code",
   "execution_count": 26,
   "metadata": {
    "id": "wxBB755KPf5i",
    "colab_type": "code",
    "colab": {
     "base_uri": "https://localhost:8080/",
     "height": 136.0
    },
    "outputId": "9e4f0377-130a-45cd-a6c3-df47b7c275ca"
   },
   "outputs": [
    {
     "name": "stdout",
     "output_type": "stream",
     "text": [
      "tensor([[[0.0039, 0.6039, 0.9922, 0.3529, 0.0000],\n",
      "         [0.0000, 0.5451, 0.9922, 0.7451, 0.0078],\n",
      "         [0.0000, 0.0431, 0.7451, 0.9922, 0.2745],\n",
      "         [0.0000, 0.0000, 0.1373, 0.9451, 0.8824],\n",
      "         [0.0000, 0.0000, 0.0000, 0.3176, 0.9412]]])\n",
      "tensor(1.)\n",
      "tensor(0.)\n"
     ]
    }
   ],
   "source": [
    "print(img_tensor[:, 10:15, 10:15])\n",
    "print(torch.max(img_tensor))\n",
    "print(torch.min(img_tensor))"
   ]
  },
  {
   "cell_type": "code",
   "execution_count": 27,
   "metadata": {
    "id": "7uCmZXsgPxhq",
    "colab_type": "code",
    "colab": {
     "base_uri": "https://localhost:8080/",
     "height": 282.0
    },
    "outputId": "e0352964-a43e-4a39-b7c5-71be2918be1c"
   },
   "outputs": [
    {
     "data": {
      "text/plain": [
       "<matplotlib.image.AxesImage at 0x7f2f486ebd30>"
      ]
     },
     "execution_count": 27,
     "metadata": {
      "tags": []
     },
     "output_type": "execute_result"
    },
    {
     "data": {
      "image/png": "[encoded data removed]",
      "text/plain": [
       "<Figure size 432x288 with 1 Axes>"
      ]
     },
     "metadata": {
      "tags": []
     },
     "output_type": "display_data"
    }
   ],
   "source": [
    "plt.imshow(img_tensor[0], cmap='gray')"
   ]
  },
  {
   "cell_type": "code",
   "execution_count": 0,
   "metadata": {
    "id": "04xyG6dNQEE3",
    "colab_type": "code",
    "colab": {}
   },
   "outputs": [],
   "source": [
    "def split_indices(n, val_pct):\n",
    "  n_val = int(n * val_pct)\n",
    "  idxs = np.random.permutation(n)\n",
    "  return idxs[n_val:], idxs[:n_val]"
   ]
  },
  {
   "cell_type": "code",
   "execution_count": 0,
   "metadata": {
    "id": "LzM3fvYwQnsh",
    "colab_type": "code",
    "colab": {}
   },
   "outputs": [],
   "source": [
    "train_indices, val_indices = split_indices(len(dataset), val_pct=0.2)"
   ]
  },
  {
   "cell_type": "code",
   "execution_count": 38,
   "metadata": {
    "id": "giJN6fwhTj7b",
    "colab_type": "code",
    "colab": {
     "base_uri": "https://localhost:8080/",
     "height": 68.0
    },
    "outputId": "05dcf4ee-8df1-4937-c63a-04de9f669a47"
   },
   "outputs": [
    {
     "name": "stdout",
     "output_type": "stream",
     "text": [
      "48000 12000\n",
      "sample val indices:  [58481 31407 15258  7275  3458 54542 46647 20601  7789 57480 56233 53508\n",
      " 28220 46633 48812 23081  9489 22004   135 50476]\n"
     ]
    }
   ],
   "source": [
    "print(len(train_indices), len(val_indices))\n",
    "print('sample val indices: ', val_indices[:20])"
   ]
  },
  {
   "cell_type": "code",
   "execution_count": 0,
   "metadata": {
    "id": "TEYZOH-FaYdi",
    "colab_type": "code",
    "colab": {}
   },
   "outputs": [],
   "source": [
    "from torch.utils.data.sampler import SubsetRandomSampler\n",
    "from torch.utils.data.dataloader import DataLoader"
   ]
  },
  {
   "cell_type": "code",
   "execution_count": 0,
   "metadata": {
    "id": "76pqz4evamyV",
    "colab_type": "code",
    "colab": {}
   },
   "outputs": [],
   "source": [
    "batch_size=100\n",
    "\n",
    "train_sampler = SubsetRandomSampler(train_indices)\n",
    "train_loader = DataLoader(dataset, batch_size, sampler=train_sampler)\n",
    "\n",
    "val_sampler = SubsetRandomSampler(val_indices)\n",
    "val_loader = DataLoader(dataset, batch_size, sampler=val_sampler)"
   ]
  },
  {
   "cell_type": "code",
   "execution_count": 0,
   "metadata": {
    "id": "KHVAKdCtbHix",
    "colab_type": "code",
    "colab": {}
   },
   "outputs": [],
   "source": [
    "import torch.nn as nn\n",
    "\n",
    "input_size = 28*28\n",
    "num_classes = 10\n",
    "\n",
    "model = nn.Linear(input_size, num_classes)"
   ]
  },
  {
   "cell_type": "code",
   "execution_count": 45,
   "metadata": {
    "id": "50uv6eFpbWCo",
    "colab_type": "code",
    "colab": {
     "base_uri": "https://localhost:8080/",
     "height": 187.0
    },
    "outputId": "4dce3123-d7b0-4250-9c14-c5fc604773be"
   },
   "outputs": [
    {
     "name": "stdout",
     "output_type": "stream",
     "text": [
      "torch.Size([10, 784])\n"
     ]
    },
    {
     "data": {
      "text/plain": [
       "Parameter containing:\n",
       "tensor([[ 0.0282,  0.0054, -0.0157,  ...,  0.0096,  0.0096,  0.0038],\n",
       "        [ 0.0184, -0.0152, -0.0234,  ..., -0.0167, -0.0041, -0.0265],\n",
       "        [-0.0210, -0.0218,  0.0095,  ..., -0.0085,  0.0187, -0.0023],\n",
       "        ...,\n",
       "        [-0.0212, -0.0342,  0.0179,  ...,  0.0323, -0.0244, -0.0094],\n",
       "        [ 0.0334,  0.0101,  0.0232,  ..., -0.0186, -0.0315, -0.0115],\n",
       "        [-0.0134,  0.0032, -0.0036,  ..., -0.0197, -0.0317,  0.0154]],\n",
       "       requires_grad=True)"
      ]
     },
     "execution_count": 45,
     "metadata": {
      "tags": []
     },
     "output_type": "execute_result"
    }
   ],
   "source": [
    "print(model.weight.shape)\n",
    "model.weight"
   ]
  },
  {
   "cell_type": "code",
   "execution_count": 46,
   "metadata": {
    "id": "lkfkMndUbdCW",
    "colab_type": "code",
    "colab": {
     "base_uri": "https://localhost:8080/",
     "height": 85.0
    },
    "outputId": "e606fe28-ad5f-49c0-88a9-127d3d22b620"
   },
   "outputs": [
    {
     "name": "stdout",
     "output_type": "stream",
     "text": [
      "torch.Size([10])\n"
     ]
    },
    {
     "data": {
      "text/plain": [
       "Parameter containing:\n",
       "tensor([ 0.0268,  0.0067,  0.0174, -0.0287, -0.0327,  0.0088, -0.0195,  0.0311,\n",
       "         0.0131, -0.0233], requires_grad=True)"
      ]
     },
     "execution_count": 46,
     "metadata": {
      "tags": []
     },
     "output_type": "execute_result"
    }
   ],
   "source": [
    "print(model.bias.shape)\n",
    "model.bias"
   ]
  },
  {
   "cell_type": "code",
   "execution_count": 115,
   "metadata": {
    "id": "w3Pg0HGubjlG",
    "colab_type": "code",
    "colab": {
     "base_uri": "https://localhost:8080/",
     "height": 34.0
    },
    "outputId": "7de25b49-055c-4e4d-954d-4de647d91d89"
   },
   "outputs": [
    {
     "name": "stdout",
     "output_type": "stream",
     "text": [
      "torch.Size([100, 1, 28, 28])\n"
     ]
    }
   ],
   "source": [
    "for images, labels in train_loader:\n",
    "  print(images.shape)\n",
    "  outputs = model(images)\n",
    "  break"
   ]
  },
  {
   "cell_type": "code",
   "execution_count": 0,
   "metadata": {
    "id": "wm-jXsmub1b3",
    "colab_type": "code",
    "colab": {}
   },
   "outputs": [],
   "source": [
    "class MnistModel(nn.Module):\n",
    "  def __init__(self):\n",
    "    super().__init__()\n",
    "    self.linear = nn.Linear(input_size, num_classes)\n",
    "    \n",
    "  def forward(self, xb):\n",
    "    xb = xb.reshape(-1, 28*28)\n",
    "    out = self.linear(xb)\n",
    "    return out\n",
    "  \n",
    "model = MnistModel()"
   ]
  },
  {
   "cell_type": "code",
   "execution_count": 50,
   "metadata": {
    "id": "ugGvETnCcbw-",
    "colab_type": "code",
    "colab": {
     "base_uri": "https://localhost:8080/",
     "height": 323.0
    },
    "outputId": "a15b057e-94fd-4849-f9a7-986f6b8606af"
   },
   "outputs": [
    {
     "name": "stdout",
     "output_type": "stream",
     "text": [
      "torch.Size([10, 784]) torch.Size([10])\n"
     ]
    },
    {
     "data": {
      "text/plain": [
       "[Parameter containing:\n",
       " tensor([[-1.8038e-02,  7.1531e-03, -2.0882e-02,  ...,  1.3453e-02,\n",
       "           2.6388e-02,  2.6762e-02],\n",
       "         [ 2.4977e-02,  7.3913e-03, -2.4084e-02,  ...,  2.0258e-05,\n",
       "           1.5780e-02,  1.4643e-02],\n",
       "         [ 1.4867e-02,  7.0904e-03, -3.2066e-02,  ..., -1.6382e-02,\n",
       "           1.2302e-02, -5.9775e-03],\n",
       "         ...,\n",
       "         [ 2.4134e-02,  8.5762e-03, -5.3016e-03,  ...,  2.5321e-02,\n",
       "          -4.5259e-03, -2.1313e-02],\n",
       "         [-2.4399e-03,  6.3815e-03,  2.7001e-02,  ...,  1.4436e-02,\n",
       "           4.9738e-03,  2.1362e-02],\n",
       "         [ 8.5632e-03,  2.0229e-02,  2.6317e-02,  ..., -1.4999e-02,\n",
       "           8.3419e-04,  2.7326e-02]], requires_grad=True),\n",
       " Parameter containing:\n",
       " tensor([-0.0114, -0.0298, -0.0246, -0.0288, -0.0154, -0.0014, -0.0223,  0.0307,\n",
       "          0.0063, -0.0130], requires_grad=True)]"
      ]
     },
     "execution_count": 50,
     "metadata": {
      "tags": []
     },
     "output_type": "execute_result"
    }
   ],
   "source": [
    "print(model.linear.weight.shape, model.linear.bias.shape)\n",
    "list(model.parameters())"
   ]
  },
  {
   "cell_type": "code",
   "execution_count": 52,
   "metadata": {
    "id": "vPTUjToWcmoX",
    "colab_type": "code",
    "colab": {
     "base_uri": "https://localhost:8080/",
     "height": 119.0
    },
    "outputId": "90a2c440-3f7f-4fda-f51d-cdf4b9fe4a6f"
   },
   "outputs": [
    {
     "name": "stdout",
     "output_type": "stream",
     "text": [
      "outputs.shape:  torch.Size([100, 10])\n",
      "Sample outputs: \n",
      " tensor([[ 1.6375e-01, -1.5585e-01,  4.9310e-02, -1.9962e-01,  2.5756e-01,\n",
      "         -7.5188e-03,  4.5942e-01,  2.7973e-02,  1.0505e-01, -2.8695e-01],\n",
      "        [ 2.2187e-02, -1.8248e-01,  2.8666e-02, -3.7090e-02,  8.9580e-02,\n",
      "          2.7094e-01, -1.2627e-04,  1.7981e-01, -1.6667e-01,  3.2104e-02]])\n"
     ]
    }
   ],
   "source": [
    "for images, labels in train_loader:\n",
    "  outputs = model(images)\n",
    "  break\n",
    "  \n",
    "print('outputs.shape: ', outputs.shape)\n",
    "print('Sample outputs: \\n', outputs[:2].data)"
   ]
  },
  {
   "cell_type": "code",
   "execution_count": 0,
   "metadata": {
    "id": "memyu_0RdN3-",
    "colab_type": "code",
    "colab": {}
   },
   "outputs": [],
   "source": [
    "import torch.nn.functional as F"
   ]
  },
  {
   "cell_type": "code",
   "execution_count": 56,
   "metadata": {
    "id": "A3Cl2UxqddHJ",
    "colab_type": "code",
    "colab": {
     "base_uri": "https://localhost:8080/",
     "height": 119.0
    },
    "outputId": "750075bc-3395-490b-87c8-c7681459c534"
   },
   "outputs": [
    {
     "name": "stdout",
     "output_type": "stream",
     "text": [
      "Sample probabilities: \n",
      " tensor([[0.1105, 0.0803, 0.0985, 0.0768, 0.1213, 0.0931, 0.1485, 0.0964, 0.1042,\n",
      "         0.0704],\n",
      "        [0.0990, 0.0807, 0.0996, 0.0933, 0.1059, 0.1269, 0.0968, 0.1159, 0.0820,\n",
      "         0.1000]])\n",
      "Sum:  0.9999999403953552\n"
     ]
    }
   ],
   "source": [
    "probs = F.softmax(outputs, dim=1)\n",
    "\n",
    "print(\"Sample probabilities: \\n\", probs[:2].data)\n",
    "print(\"Sum: \", torch.sum(probs[0]).item())"
   ]
  },
  {
   "cell_type": "code",
   "execution_count": 57,
   "metadata": {
    "id": "sd5KcvvZd_2V",
    "colab_type": "code",
    "colab": {
     "base_uri": "https://localhost:8080/",
     "height": 102.0
    },
    "outputId": "62e3b860-8edd-451b-ad10-cde9fe1a1179"
   },
   "outputs": [
    {
     "name": "stdout",
     "output_type": "stream",
     "text": [
      "tensor([6, 5, 7, 6, 6, 4, 4, 5, 5, 0, 7, 5, 3, 6, 6, 4, 4, 6, 4, 4, 5, 6, 5, 6,\n",
      "        4, 5, 4, 6, 1, 5, 4, 5, 6, 6, 5, 4, 5, 4, 3, 3, 3, 5, 4, 4, 4, 4, 3, 6,\n",
      "        6, 4, 4, 4, 6, 5, 6, 5, 1, 5, 5, 4, 4, 4, 5, 3, 5, 5, 6, 4, 5, 6, 0, 5,\n",
      "        3, 3, 3, 6, 4, 5, 4, 4, 5, 5, 5, 5, 5, 4, 6, 3, 4, 5, 6, 1, 7, 2, 3, 5,\n",
      "        6, 5, 5, 5])\n"
     ]
    }
   ],
   "source": [
    "max_probs, preds = torch.max(probs, dim=1)\n",
    "print(preds)"
   ]
  },
  {
   "cell_type": "code",
   "execution_count": 59,
   "metadata": {
    "id": "ocd9gYQheSB8",
    "colab_type": "code",
    "colab": {
     "base_uri": "https://localhost:8080/",
     "height": 102.0
    },
    "outputId": "1a9d8582-85d0-4b1a-d910-9783443451b7"
   },
   "outputs": [
    {
     "data": {
      "text/plain": [
       "tensor([7, 3, 0, 1, 8, 0, 6, 4, 7, 4, 0, 2, 0, 1, 8, 0, 8, 6, 0, 2, 2, 3, 2, 0,\n",
       "        8, 0, 8, 7, 5, 6, 8, 3, 1, 8, 3, 1, 5, 4, 4, 1, 4, 9, 1, 2, 1, 6, 2, 3,\n",
       "        9, 3, 7, 1, 2, 8, 7, 8, 2, 8, 2, 4, 1, 6, 3, 1, 8, 9, 3, 9, 3, 7, 4, 9,\n",
       "        1, 4, 1, 0, 1, 8, 6, 5, 3, 3, 2, 2, 3, 9, 8, 1, 4, 9, 8, 2, 0, 7, 1, 3,\n",
       "        2, 4, 9, 3])"
      ]
     },
     "execution_count": 59,
     "metadata": {
      "tags": []
     },
     "output_type": "execute_result"
    }
   ],
   "source": [
    "labels"
   ]
  },
  {
   "cell_type": "code",
   "execution_count": 0,
   "metadata": {
    "id": "IQW7YhvaeafL",
    "colab_type": "code",
    "colab": {}
   },
   "outputs": [],
   "source": [
    "def accuracy(l1, l2):\n",
    "  return torch.sum(l1 == l2).item()/len(l1)"
   ]
  },
  {
   "cell_type": "code",
   "execution_count": 61,
   "metadata": {
    "id": "TXReRED2eocy",
    "colab_type": "code",
    "colab": {
     "base_uri": "https://localhost:8080/",
     "height": 34.0
    },
    "outputId": "238f3b16-6547-4f76-9dcc-632a329a69ed"
   },
   "outputs": [
    {
     "data": {
      "text/plain": [
       "0.05"
      ]
     },
     "execution_count": 61,
     "metadata": {
      "tags": []
     },
     "output_type": "execute_result"
    }
   ],
   "source": [
    "accuracy(preds, labels)"
   ]
  },
  {
   "cell_type": "code",
   "execution_count": 0,
   "metadata": {
    "id": "FGa_wLQdeyqY",
    "colab_type": "code",
    "colab": {}
   },
   "outputs": [],
   "source": [
    "loss_fn = F.cross_entropy"
   ]
  },
  {
   "cell_type": "code",
   "execution_count": 63,
   "metadata": {
    "id": "98kDqnMVfPqr",
    "colab_type": "code",
    "colab": {
     "base_uri": "https://localhost:8080/",
     "height": 34.0
    },
    "outputId": "ef58dea7-1c17-4c74-afd8-36e489d03d77"
   },
   "outputs": [
    {
     "name": "stdout",
     "output_type": "stream",
     "text": [
      "tensor(2.3576, grad_fn=<NllLossBackward>)\n"
     ]
    }
   ],
   "source": [
    "loss = loss_fn(outputs, labels)\n",
    "print(loss)"
   ]
  },
  {
   "cell_type": "code",
   "execution_count": 0,
   "metadata": {
    "id": "rSwCIXBjfZn3",
    "colab_type": "code",
    "colab": {}
   },
   "outputs": [],
   "source": [
    "learning_rate = 0.001\n",
    "optimizer = torch.optim.SGD(model.parameters(), lr = learning_rate)"
   ]
  },
  {
   "cell_type": "code",
   "execution_count": 0,
   "metadata": {
    "id": "qv4pViAtfmOS",
    "colab_type": "code",
    "colab": {}
   },
   "outputs": [],
   "source": [
    "def loss_batch(model, loss_func, xb, yb, opt = None, metric = None):\n",
    "  preds = model(xb)\n",
    "  loss = loss_func(preds, yb)\n",
    "  \n",
    "  if opt is not None:\n",
    "    loss.backward()\n",
    "    opt.step()\n",
    "    opt.zero_grad()\n",
    "    \n",
    "  metric_result = None\n",
    "  if metric is not None:\n",
    "    metric_result = metric(preds, yb)\n",
    "    \n",
    "  return loss.item(), len(xb), metric_result"
   ]
  },
  {
   "cell_type": "code",
   "execution_count": 0,
   "metadata": {
    "id": "18vAlJxkgYXE",
    "colab_type": "code",
    "colab": {}
   },
   "outputs": [],
   "source": [
    "def evaluate(model, loss_fn, valid_dl, metric=None):\n",
    "  with torch.no_grad():\n",
    "    results = [loss_batch(model, loss_fn, xb, yb, metric = metric) for xb,yb in valid_dl]\n",
    "    \n",
    "  losses, nums, metrics = zip(*results)\n",
    "  total = np.sum(nums)\n",
    "  total_loss = np.sum(np.multiply(losses, nums))\n",
    "  avg_loss = total_loss / total\n",
    "  avg_metric = None\n",
    "  if metric is not None:\n",
    "    tot_metric = np.sum(np.multiply(metrics, nums))\n",
    "    avg_metric = tot_metric / total\n",
    "  return avg_loss, total, avg_metric"
   ]
  },
  {
   "cell_type": "code",
   "execution_count": 0,
   "metadata": {
    "id": "mBSbT_CShX9t",
    "colab_type": "code",
    "colab": {}
   },
   "outputs": [],
   "source": [
    "def accuracy(outputs, labels):\n",
    "  _, preds = torch.max(outputs, dim=1)\n",
    "  return torch.sum(preds == labels).item() / len(preds)"
   ]
  },
  {
   "cell_type": "code",
   "execution_count": 72,
   "metadata": {
    "id": "X8PH2ZzShqYy",
    "colab_type": "code",
    "colab": {
     "base_uri": "https://localhost:8080/",
     "height": 34.0
    },
    "outputId": "e348788a-4220-46c6-c344-079b5a12d06f"
   },
   "outputs": [
    {
     "name": "stdout",
     "output_type": "stream",
     "text": [
      "Loss: 2.3443, Accuracy: 0.0790\n"
     ]
    }
   ],
   "source": [
    "val_loss, total, val_acc = evaluate(model, loss_fn, val_loader, metric = accuracy)\n",
    "print('Loss: {:.4f}, Accuracy: {:.4f}'.format(val_loss, val_acc))"
   ]
  },
  {
   "cell_type": "code",
   "execution_count": 0,
   "metadata": {
    "id": "cg7DefeYiiuW",
    "colab_type": "code",
    "colab": {}
   },
   "outputs": [],
   "source": [
    "def fit(epochs, model, loss_fn, opt, train_dl, valid_dl, metric=None):\n",
    "  for epoch in range(epochs):\n",
    "    for xb, yb in train_dl:\n",
    "      loss,_,_ = loss_batch(model, loss_fn, xb, yb, opt)\n",
    "      \n",
    "    result = evaluate(model, loss_fn, valid_dl, metric)\n",
    "    val_loss, total, val_metric = result\n",
    "    \n",
    "    if metric is None:\n",
    "      print('Epoch [{}/{}], Loss: {:.4f}'.format(epoch+1, epochs, val_loss, metric.__name__, val_metric))\n",
    "    else:\n",
    "      print('Epoch [{}/{}], Loss: {:.4f}, {}: {:.4f}'.format(epoch+1, epochs, val_loss, metric.__name__, val_metric))"
   ]
  },
  {
   "cell_type": "code",
   "execution_count": 0,
   "metadata": {
    "id": "YOnLasiMjsCM",
    "colab_type": "code",
    "colab": {}
   },
   "outputs": [],
   "source": [
    "model = MnistModel()\n",
    "optimizer = torch.optim.SGD(model.parameters(), lr = learning_rate)"
   ]
  },
  {
   "cell_type": "code",
   "execution_count": 82,
   "metadata": {
    "id": "wXbFenZIj3Q7",
    "colab_type": "code",
    "colab": {
     "base_uri": "https://localhost:8080/",
     "height": 102.0
    },
    "outputId": "325daf58-c2fa-4fd4-818d-32c65e4f4c84"
   },
   "outputs": [
    {
     "name": "stdout",
     "output_type": "stream",
     "text": [
      "Epoch [1/5], Loss: 1.9348, accuracy: 0.5989\n",
      "Epoch [2/5], Loss: 1.6237, accuracy: 0.7224\n",
      "Epoch [3/5], Loss: 1.4049, accuracy: 0.7653\n",
      "Epoch [4/5], Loss: 1.2478, accuracy: 0.7851\n",
      "Epoch [5/5], Loss: 1.1316, accuracy: 0.7994\n"
     ]
    }
   ],
   "source": [
    "fit(5, model, F.cross_entropy, optimizer, train_loader, val_loader, accuracy)"
   ]
  },
  {
   "cell_type": "code",
   "execution_count": 83,
   "metadata": {
    "id": "ntMhSCTek3wO",
    "colab_type": "code",
    "colab": {
     "base_uri": "https://localhost:8080/",
     "height": 102.0
    },
    "outputId": "7807235c-5d50-4cd6-d6e2-c0630915c232"
   },
   "outputs": [
    {
     "name": "stdout",
     "output_type": "stream",
     "text": [
      "Epoch [1/5], Loss: 1.0429, accuracy: 0.8093\n",
      "Epoch [2/5], Loss: 0.9731, accuracy: 0.8162\n",
      "Epoch [3/5], Loss: 0.9170, accuracy: 0.8225\n",
      "Epoch [4/5], Loss: 0.8708, accuracy: 0.8266\n",
      "Epoch [5/5], Loss: 0.8321, accuracy: 0.8298\n"
     ]
    }
   ],
   "source": [
    "fit(5, model, F.cross_entropy, optimizer, train_loader, val_loader, accuracy)"
   ]
  },
  {
   "cell_type": "code",
   "execution_count": 84,
   "metadata": {
    "id": "kU90svH3lFCC",
    "colab_type": "code",
    "colab": {
     "base_uri": "https://localhost:8080/",
     "height": 102.0
    },
    "outputId": "074a180f-3679-4b19-93e5-049013e87abc"
   },
   "outputs": [
    {
     "name": "stdout",
     "output_type": "stream",
     "text": [
      "Epoch [1/5], Loss: 0.7992, accuracy: 0.8327\n",
      "Epoch [2/5], Loss: 0.7708, accuracy: 0.8352\n",
      "Epoch [3/5], Loss: 0.7461, accuracy: 0.8373\n",
      "Epoch [4/5], Loss: 0.7243, accuracy: 0.8393\n",
      "Epoch [5/5], Loss: 0.7050, accuracy: 0.8413\n"
     ]
    }
   ],
   "source": [
    "fit(5, model, F.cross_entropy, optimizer, train_loader, val_loader, accuracy)"
   ]
  },
  {
   "cell_type": "code",
   "execution_count": 85,
   "metadata": {
    "id": "cyvZ5wxOlVBj",
    "colab_type": "code",
    "colab": {
     "base_uri": "https://localhost:8080/",
     "height": 102.0
    },
    "outputId": "2fae4a1f-7d92-46e5-ed20-61c603a8515e"
   },
   "outputs": [
    {
     "name": "stdout",
     "output_type": "stream",
     "text": [
      "Epoch [1/5], Loss: 0.6877, accuracy: 0.8428\n",
      "Epoch [2/5], Loss: 0.6721, accuracy: 0.8442\n",
      "Epoch [3/5], Loss: 0.6580, accuracy: 0.8463\n",
      "Epoch [4/5], Loss: 0.6452, accuracy: 0.8482\n",
      "Epoch [5/5], Loss: 0.6334, accuracy: 0.8499\n"
     ]
    }
   ],
   "source": [
    "fit(5, model, F.cross_entropy, optimizer, train_loader, val_loader, accuracy)"
   ]
  },
  {
   "cell_type": "code",
   "execution_count": 86,
   "metadata": {
    "id": "2t34s8lVmBVT",
    "colab_type": "code",
    "colab": {
     "base_uri": "https://localhost:8080/",
     "height": 102.0
    },
    "outputId": "cb735625-21b8-4b5a-b226-d54271e49fa8"
   },
   "outputs": [
    {
     "name": "stdout",
     "output_type": "stream",
     "text": [
      "Epoch [1/5], Loss: 0.6226, accuracy: 0.8517\n",
      "Epoch [2/5], Loss: 0.6126, accuracy: 0.8532\n",
      "Epoch [3/5], Loss: 0.6034, accuracy: 0.8546\n",
      "Epoch [4/5], Loss: 0.5948, accuracy: 0.8560\n",
      "Epoch [5/5], Loss: 0.5868, accuracy: 0.8573\n"
     ]
    }
   ],
   "source": [
    "fit(5, model, F.cross_entropy, optimizer, train_loader, val_loader, accuracy)"
   ]
  },
  {
   "cell_type": "code",
   "execution_count": 87,
   "metadata": {
    "id": "kRjth7LkmKO5",
    "colab_type": "code",
    "colab": {
     "base_uri": "https://localhost:8080/",
     "height": 102.0
    },
    "outputId": "4f01d86e-769c-47b9-ff81-3cdcf60325fb"
   },
   "outputs": [
    {
     "name": "stdout",
     "output_type": "stream",
     "text": [
      "Epoch [1/5], Loss: 0.5793, accuracy: 0.8582\n",
      "Epoch [2/5], Loss: 0.5723, accuracy: 0.8592\n",
      "Epoch [3/5], Loss: 0.5657, accuracy: 0.8598\n",
      "Epoch [4/5], Loss: 0.5595, accuracy: 0.8608\n",
      "Epoch [5/5], Loss: 0.5536, accuracy: 0.8619\n"
     ]
    }
   ],
   "source": [
    "fit(5, model, F.cross_entropy, optimizer, train_loader, val_loader, accuracy)"
   ]
  },
  {
   "cell_type": "code",
   "execution_count": 88,
   "metadata": {
    "id": "qPTiCuO2mT1g",
    "colab_type": "code",
    "colab": {
     "base_uri": "https://localhost:8080/",
     "height": 187.0
    },
    "outputId": "e237b958-ec7e-42de-f591-1632f0f27b24"
   },
   "outputs": [
    {
     "name": "stdout",
     "output_type": "stream",
     "text": [
      "Epoch [1/10], Loss: 0.5481, accuracy: 0.8628\n",
      "Epoch [2/10], Loss: 0.5428, accuracy: 0.8634\n",
      "Epoch [3/10], Loss: 0.5378, accuracy: 0.8636\n",
      "Epoch [4/10], Loss: 0.5331, accuracy: 0.8642\n",
      "Epoch [5/10], Loss: 0.5286, accuracy: 0.8653\n",
      "Epoch [6/10], Loss: 0.5243, accuracy: 0.8662\n",
      "Epoch [7/10], Loss: 0.5202, accuracy: 0.8666\n",
      "Epoch [8/10], Loss: 0.5163, accuracy: 0.8672\n",
      "Epoch [9/10], Loss: 0.5125, accuracy: 0.8682\n",
      "Epoch [10/10], Loss: 0.5089, accuracy: 0.8689\n"
     ]
    }
   ],
   "source": [
    "fit(10, model, F.cross_entropy, optimizer, train_loader, val_loader, accuracy)"
   ]
  },
  {
   "cell_type": "code",
   "execution_count": 91,
   "metadata": {
    "id": "BaLfIfMmmwsK",
    "colab_type": "code",
    "colab": {
     "base_uri": "https://localhost:8080/",
     "height": 294.0
    },
    "outputId": "57ed91e5-2889-41ff-a718-009d75df57bf"
   },
   "outputs": [
    {
     "data": {
      "image/png": "[encoded data removed]",
      "text/plain": [
       "<Figure size 432x288 with 1 Axes>"
      ]
     },
     "metadata": {
      "tags": []
     },
     "output_type": "display_data"
    }
   ],
   "source": [
    "accuracies = [0.0790, 0.5989, 0.7224, 0.7653, 0.7851, 0.7994, 0.8093, 0.8162, 0.8225, 0.8266,\n",
    "              0.8298, 0.8327, 0.8352, 0.8393, 0.8413, 0.8428, 0.8463, 0.8482, 0.8499, 0.8517,\n",
    "              0.8532, 0.8546, 0.8560, 0.8573, 0.8582, 0.8592, 0.8598, 0.8608, 0.8619, 0.8628,\n",
    "              0.8628, 0.8634, 0.8636, 0.8636, 0.8642, 0.8653, 0.8662, 0.8666, 0.8672, 0.8682, 0.8689]\n",
    "\n",
    "plt.plot(accuracies, '-x')\n",
    "plt.xlabel('epoch')\n",
    "plt.ylabel('accuracy')\n",
    "plt.title('Accuracy vs. No. of eo=pochs')\n",
    "plt.show()"
   ]
  },
  {
   "cell_type": "code",
   "execution_count": 0,
   "metadata": {
    "id": "f5sNVOvdpTC_",
    "colab_type": "code",
    "colab": {}
   },
   "outputs": [],
   "source": [
    "test_dataset = MNIST(root = 'data/', train = False, transform = transforms.ToTensor())"
   ]
  },
  {
   "cell_type": "code",
   "execution_count": 93,
   "metadata": {
    "id": "Uo2abRryperC",
    "colab_type": "code",
    "colab": {
     "base_uri": "https://localhost:8080/",
     "height": 299.0
    },
    "outputId": "281410e9-bf61-4310-bdc1-976386f58b91"
   },
   "outputs": [
    {
     "name": "stdout",
     "output_type": "stream",
     "text": [
      "Shape:  torch.Size([1, 28, 28])\n",
      "Label:  7\n"
     ]
    },
    {
     "data": {
      "image/png": "[encoded data removed]",
      "text/plain": [
       "<Figure size 432x288 with 1 Axes>"
      ]
     },
     "metadata": {
      "tags": []
     },
     "output_type": "display_data"
    }
   ],
   "source": [
    "img, label = test_dataset[0]\n",
    "plt.imshow(img[0], cmap='gray')\n",
    "print('Shape: ', img.shape)\n",
    "print('Label: ', label.item())"
   ]
  },
  {
   "cell_type": "code",
   "execution_count": 0,
   "metadata": {
    "id": "7nXF6z59pwhf",
    "colab_type": "code",
    "colab": {}
   },
   "outputs": [],
   "source": [
    "def predict_image(img, model):\n",
    "  xb = img.unsqueeze(0)\n",
    "  yb = model(xb)\n",
    "  _, preds = torch.max(yb, dim=1)\n",
    "  return preds[0].item()"
   ]
  },
  {
   "cell_type": "code",
   "execution_count": 103,
   "metadata": {
    "id": "FvEp_brkqBMl",
    "colab_type": "code",
    "colab": {
     "base_uri": "https://localhost:8080/",
     "height": 282.0
    },
    "outputId": "05cf9651-6761-4d36-f702-06ab49027e2d"
   },
   "outputs": [
    {
     "name": "stdout",
     "output_type": "stream",
     "text": [
      "Label:  7 , Predicted:  7\n"
     ]
    },
    {
     "data": {
      "image/png": "[encoded data removed]",
      "text/plain": [
       "<Figure size 432x288 with 1 Axes>"
      ]
     },
     "metadata": {
      "tags": []
     },
     "output_type": "display_data"
    }
   ],
   "source": [
    "img, label = test_dataset[0]\n",
    "plt.imshow(img[0], cmap = 'gray')\n",
    "print('Label: ', label.item(), ', Predicted: ', predict_image(img, model))"
   ]
  },
  {
   "cell_type": "code",
   "execution_count": 104,
   "metadata": {
    "id": "mcmsKXUlqdvv",
    "colab_type": "code",
    "colab": {
     "base_uri": "https://localhost:8080/",
     "height": 282.0
    },
    "outputId": "a2980dc7-0907-447b-bc37-599cf82f52b6"
   },
   "outputs": [
    {
     "name": "stdout",
     "output_type": "stream",
     "text": [
      "Label:  0 , Predicted:  0\n"
     ]
    },
    {
     "data": {
      "image/png": "[encoded data removed]",
      "text/plain": [
       "<Figure size 432x288 with 1 Axes>"
      ]
     },
     "metadata": {
      "tags": []
     },
     "output_type": "display_data"
    }
   ],
   "source": [
    "img, label = test_dataset[10]\n",
    "plt.imshow(img[0], cmap = 'gray')\n",
    "print('Label: ', label.item(), ', Predicted: ', predict_image(img, model))"
   ]
  },
  {
   "cell_type": "code",
   "execution_count": 105,
   "metadata": {
    "id": "rVAROQr-qn9f",
    "colab_type": "code",
    "colab": {
     "base_uri": "https://localhost:8080/",
     "height": 282.0
    },
    "outputId": "0ef05c27-0731-450c-f825-b746b95ae416"
   },
   "outputs": [
    {
     "name": "stdout",
     "output_type": "stream",
     "text": [
      "Label:  9 , Predicted:  9\n"
     ]
    },
    {
     "data": {
      "image/png": "[encoded data removed]",
      "text/plain": [
       "<Figure size 432x288 with 1 Axes>"
      ]
     },
     "metadata": {
      "tags": []
     },
     "output_type": "display_data"
    }
   ],
   "source": [
    "img, label = test_dataset[20]\n",
    "plt.imshow(img[0], cmap = 'gray')\n",
    "print('Label: ', label.item(), ', Predicted: ', predict_image(img, model))"
   ]
  },
  {
   "cell_type": "code",
   "execution_count": 106,
   "metadata": {
    "id": "ZFht0qUhqz6k",
    "colab_type": "code",
    "colab": {
     "base_uri": "https://localhost:8080/",
     "height": 282.0
    },
    "outputId": "65b005c2-39d3-4bdc-f75c-137f01663456"
   },
   "outputs": [
    {
     "name": "stdout",
     "output_type": "stream",
     "text": [
      "Label:  3 , Predicted:  5\n"
     ]
    },
    {
     "data": {
      "image/png": "[encoded data removed]",
      "text/plain": [
       "<Figure size 432x288 with 1 Axes>"
      ]
     },
     "metadata": {
      "tags": []
     },
     "output_type": "display_data"
    }
   ],
   "source": [
    "img, label = test_dataset[1889]\n",
    "plt.imshow(img[0], cmap = 'gray')\n",
    "print('Label: ', label.item(), ', Predicted: ', predict_image(img, model))"
   ]
  },
  {
   "cell_type": "code",
   "execution_count": 108,
   "metadata": {
    "id": "rlw1d7IXq5M-",
    "colab_type": "code",
    "colab": {
     "base_uri": "https://localhost:8080/",
     "height": 34.0
    },
    "outputId": "74ee1457-39e0-4689-bcf1-ecbd45989229"
   },
   "outputs": [
    {
     "name": "stdout",
     "output_type": "stream",
     "text": [
      "Loss: 0.4739, Accuracy: 0.8834\n"
     ]
    }
   ],
   "source": [
    "test_loader = DataLoader(test_dataset, batch_size = 200)\n",
    "\n",
    "test_loss, totla, test_acc = evaluate(model, loss_fn, test_loader, metric=accuracy)\n",
    "print('Loss: {:.4f}, Accuracy: {:.4f}'.format(test_loss, test_acc))"
   ]
  },
  {
   "cell_type": "code",
   "execution_count": 0,
   "metadata": {
    "id": "OUabPxy4rVva",
    "colab_type": "code",
    "colab": {}
   },
   "outputs": [],
   "source": [
    "torch.save(model.state_dict(), 'mnist-logistic.pth')"
   ]
  },
  {
   "cell_type": "code",
   "execution_count": 110,
   "metadata": {
    "id": "WHHQ0Nj1rfPQ",
    "colab_type": "code",
    "colab": {
     "base_uri": "https://localhost:8080/",
     "height": 204.0
    },
    "outputId": "365853ea-decf-4fe1-9f9c-1de1fc8fd8fa"
   },
   "outputs": [
    {
     "data": {
      "text/plain": [
       "OrderedDict([('linear.weight',\n",
       "              tensor([[-0.0117,  0.0323, -0.0114,  ...,  0.0148, -0.0114,  0.0136],\n",
       "                      [ 0.0124,  0.0070, -0.0326,  ..., -0.0107, -0.0051,  0.0015],\n",
       "                      [ 0.0198, -0.0254,  0.0022,  ...,  0.0139,  0.0311, -0.0185],\n",
       "                      ...,\n",
       "                      [ 0.0067,  0.0332, -0.0017,  ...,  0.0264, -0.0351, -0.0135],\n",
       "                      [-0.0054,  0.0231,  0.0352,  ..., -0.0136, -0.0069, -0.0179],\n",
       "                      [ 0.0312, -0.0146,  0.0164,  ..., -0.0238,  0.0135,  0.0238]])),\n",
       "             ('linear.bias',\n",
       "              tensor([-0.0802,  0.1626, -0.0464, -0.0479,  0.0092,  0.1282, -0.0107,  0.0947,\n",
       "                      -0.1877, -0.0583]))])"
      ]
     },
     "execution_count": 110,
     "metadata": {
      "tags": []
     },
     "output_type": "execute_result"
    }
   ],
   "source": [
    "model.state_dict()"
   ]
  },
  {
   "cell_type": "code",
   "execution_count": 112,
   "metadata": {
    "id": "0mDYGTttri5j",
    "colab_type": "code",
    "colab": {
     "base_uri": "https://localhost:8080/",
     "height": 204.0
    },
    "outputId": "9aea7288-76b3-40c6-8fe7-709ae9850aed"
   },
   "outputs": [
    {
     "data": {
      "text/plain": [
       "OrderedDict([('linear.weight',\n",
       "              tensor([[-0.0117,  0.0323, -0.0114,  ...,  0.0148, -0.0114,  0.0136],\n",
       "                      [ 0.0124,  0.0070, -0.0326,  ..., -0.0107, -0.0051,  0.0015],\n",
       "                      [ 0.0198, -0.0254,  0.0022,  ...,  0.0139,  0.0311, -0.0185],\n",
       "                      ...,\n",
       "                      [ 0.0067,  0.0332, -0.0017,  ...,  0.0264, -0.0351, -0.0135],\n",
       "                      [-0.0054,  0.0231,  0.0352,  ..., -0.0136, -0.0069, -0.0179],\n",
       "                      [ 0.0312, -0.0146,  0.0164,  ..., -0.0238,  0.0135,  0.0238]])),\n",
       "             ('linear.bias',\n",
       "              tensor([-0.0802,  0.1626, -0.0464, -0.0479,  0.0092,  0.1282, -0.0107,  0.0947,\n",
       "                      -0.1877, -0.0583]))])"
      ]
     },
     "execution_count": 112,
     "metadata": {
      "tags": []
     },
     "output_type": "execute_result"
    }
   ],
   "source": [
    "model2 = MnistModel()\n",
    "model2.load_state_dict(torch.load('mnist-logistic.pth'))\n",
    "model2.state_dict()"
   ]
  },
  {
   "cell_type": "code",
   "execution_count": 114,
   "metadata": {
    "id": "xUrtIaDkrxtu",
    "colab_type": "code",
    "colab": {
     "base_uri": "https://localhost:8080/",
     "height": 34.0
    },
    "outputId": "d70fc083-9e75-4bae-f88b-81076179ae67"
   },
   "outputs": [
    {
     "name": "stdout",
     "output_type": "stream",
     "text": [
      "Loss: 0.4739, Accuracy: 0.8834\n"
     ]
    }
   ],
   "source": [
    "test_loss, total, test_acc = evaluate(model2, loss_fn, test_loader, metric = accuracy)\n",
    "print('Loss: {:.4f}, Accuracy: {:.4f}'.format(test_loss, test_acc))"
   ]
  }
 ],
 "metadata": {
  "colab": {
   "name": "MNIST (Pytorch).ipynb",
   "version": "0.3.2",
   "provenance": []
  },
  "kernelspec": {
   "name": "python3",
   "display_name": "Python 3"
  }
 },
 "nbformat": 4,
 "nbformat_minor": 0
}
